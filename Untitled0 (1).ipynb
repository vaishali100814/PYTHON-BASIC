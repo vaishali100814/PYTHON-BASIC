{
  "nbformat": 4,
  "nbformat_minor": 0,
  "metadata": {
    "colab": {
      "provenance": []
    },
    "kernelspec": {
      "name": "python3",
      "display_name": "Python 3"
    },
    "language_info": {
      "name": "python"
    }
  },
  "cells": [
    {
      "cell_type": "code",
      "execution_count": null,
      "metadata": {
        "id": "YQItJz4FOmbx"
      },
      "outputs": [],
      "source": []
    },
    {
      "cell_type": "markdown",
      "source": [
        "# Python Basics"
      ],
      "metadata": {
        "id": "CkMlJk5TOpVA"
      }
    },
    {
      "cell_type": "markdown",
      "source": [
        "1. What is Python, and why is it popular?\n",
        "   - Python is the programming language it is the most accessible open-source coding language as it has a simple syntax to code. Because of its simplicity of learning and utilization, python codes can be handily composed and executed much more quickly than other programming dialects.\n",
        "\n",
        "2. What is an interpreter in Python?\n",
        "   - An interpreter is a program that reads and executes Python code line by line, allowing you to see the results immediately. Unlike compilers, which translate code into machine code before execution, interpreters translate and execute code at runtime.\n",
        "\n",
        "3. What are pre-defined keywords in Python?\n",
        "   - Keywords are reserved words in Python that have specific, predefined meanings and purposes. These keywords cannot be used as identifiers because they are part of the language's syntax.    \n",
        "\n",
        "4. Can keywords be used as variable names?\n",
        "   - No, keywords cannot be used as variable names in most programming languages. Keywords are reserved words that have specific meanings to the compiler or interpreter and are used to define the language's syntax.\n",
        "\n",
        "5. What is mutability in Python?\n",
        "  - Mutability in Python refers to the ability of an object to be modified after it is created. If an object is mutable, its value can be changed without creating a new object.\n",
        "\n",
        "6. Why are lists mutable, but tuples are immutable?\n",
        "  - Tuples and lists are the same in every way except two: tuples use parentheses instead of square brackets, and the items in tuples cannot be modified.\n",
        "\n",
        "7. What is the difference between “==” and “is” operators in Python?\n",
        "  - The \"==\" and \"is\" operators in Python serve distinct comparison purposes. The \"==\" operator checks for equality of value between two objects, while the \"is\" operator checks for identity, determining if two variables reference the exact same object in memory.\n",
        "\n",
        "8. What are logical operators in Python?\n",
        "  - Logical operators in Python are used to combine or modify conditional statements. They work with boolean values (True or False) and return a boolean result. There are three main logical operators in Python: and, or, and not.\n",
        "and: Returns True if both operands are True, otherwise returns False.\n",
        "or: Returns True if at least one of the operands is True, otherwise returns False.\n",
        "not: Returns the opposite boolean value of the operand. If the operand is True, it returns False, and vice versa.\n",
        "\n",
        "9. What is type casting in Python?\n",
        "  - Type casting in Python is the process of converting a variable from one data type to another. This is useful when you need to perform operations that require specific data types or when you want to represent data in a different format.\n",
        "\n",
        "10. What is the difference between implicit and explicit type casting?\n",
        "   - Implicit type casting, also known as widening or coercion, is the automatic conversion of one data type to another, typically from a smaller data type to a larger one, performed by the compiler. Explicit type casting, on the other hand, is a manual conversion where the programmer specifies the desired data type, often involving a potential loss of data or precision.\n",
        "\n",
        "11. What is the purpose of conditional statements in Python?\n",
        "   - The purpose of conditional statements in Python is to control the flow of execution in a program based on whether specific conditions are met. These statements allow the program to make decisions, executing different blocks of code depending on the evaluation of a condition as either true or false. This capability is fundamental for creating dynamic and responsive programs that can adapt to various scenarios and inputs.\n",
        "\n",
        "12. How does the elif statement work?\n",
        "   - The “elif” keyword in Python, stands for “else if”. It can be used in conditional statements to check for multiple conditions. For example, if the first condition is false, it moves on to the next “elif” statement to check if that condition is true.\n",
        "\n",
        "13. What is the difference between for and while loops?\n",
        "   - The primary difference between for and while loops lies in when the number of iterations is known beforehand. for loops are best suited for situations where you know exactly how many times the loop will execute, often when iterating over a collection or sequence. while loops, on the other hand, are more flexible and used when the number of iterations is unknown and depends on a dynamic condition.\n",
        "\n",
        "14. Describe a scenario where a while loop is more suitable than a for loop?\n",
        "   - In contrast to a 'for' loop, which is generally used when the number of iterations is known beforehand, a 'while' loop is ideal for situations where the number of iterations is not predetermined and depends on some dynamic condition.        \n"
      ],
      "metadata": {
        "id": "IGbMpLtiOwV9"
      }
    },
    {
      "cell_type": "code",
      "source": [
        "# Write a Python program to print \"Hello, World!\n",
        "\n",
        "print(\"hello, world!\")"
      ],
      "metadata": {
        "colab": {
          "base_uri": "https://localhost:8080/"
        },
        "id": "hcLsmOjLVvJV",
        "outputId": "e606a00f-9215-4bed-e945-2cb6d4d1115f"
      },
      "execution_count": 11,
      "outputs": [
        {
          "output_type": "stream",
          "name": "stdout",
          "text": [
            "hello, world!\n"
          ]
        }
      ]
    },
    {
      "cell_type": "code",
      "source": [
        "# Write a Python program that displays your name and age.\n",
        "\n",
        "name = \"Rajat Sharma\"\n",
        "age = 30\n",
        "\n",
        "print(\"Name:\", name)\n",
        "print(\"Age:\", age)"
      ],
      "metadata": {
        "colab": {
          "base_uri": "https://localhost:8080/"
        },
        "id": "PfuFJIb_WXH-",
        "outputId": "831d2c70-ea48-4eef-ffac-65684ea0df9b"
      },
      "execution_count": 13,
      "outputs": [
        {
          "output_type": "stream",
          "name": "stdout",
          "text": [
            "Name: Rajat Sharma\n",
            "Age: 30\n"
          ]
        }
      ]
    },
    {
      "cell_type": "code",
      "source": [
        "# Write code to print all the pre-defined keywords in Python using the keyword library.\n",
        "\n",
        "print(False == 0)\n",
        "print(True == 1)\n",
        "print(True + True + True)\n",
        "print(True + False + False)\n",
        "print(None == 0)\n",
        "print(None == [])"
      ],
      "metadata": {
        "colab": {
          "base_uri": "https://localhost:8080/"
        },
        "id": "LUcVGzDrWyvD",
        "outputId": "aaf7b202-4902-4696-cc17-f755b1a82075"
      },
      "execution_count": 14,
      "outputs": [
        {
          "output_type": "stream",
          "name": "stdout",
          "text": [
            "True\n",
            "True\n",
            "3\n",
            "1\n",
            "False\n",
            "False\n"
          ]
        }
      ]
    },
    {
      "cell_type": "code",
      "source": [
        "# Write a program that checks if a given word is a Python keyword.\n",
        "\n",
        "import keyword\n",
        "print(keyword.kwlist)"
      ],
      "metadata": {
        "colab": {
          "base_uri": "https://localhost:8080/"
        },
        "id": "kw5xAKyoYcoS",
        "outputId": "2b28515e-2565-4a51-af45-856da7028c39"
      },
      "execution_count": 18,
      "outputs": [
        {
          "output_type": "stream",
          "name": "stdout",
          "text": [
            "['False', 'None', 'True', 'and', 'as', 'assert', 'async', 'await', 'break', 'class', 'continue', 'def', 'del', 'elif', 'else', 'except', 'finally', 'for', 'from', 'global', 'if', 'import', 'in', 'is', 'lambda', 'nonlocal', 'not', 'or', 'pass', 'raise', 'return', 'try', 'while', 'with', 'yield']\n"
          ]
        }
      ]
    },
    {
      "cell_type": "code",
      "source": [
        "#  Create a list and tuple in Python, and demonstrate how attempting to change an element works differently for each.\n",
        "\n",
        "mylist = [\"Neymar\", \"Messi\", 3.5, 50]\n",
        "print(mylist)\n",
        "\n",
        "mytuple = tuple(mylist)\n",
        "\n",
        "print(\"Tuple = \",mytuple)"
      ],
      "metadata": {
        "colab": {
          "base_uri": "https://localhost:8080/"
        },
        "id": "6h-qPZWkZO2O",
        "outputId": "bb0a1366-58c2-414b-b505-6e155e970ff2"
      },
      "execution_count": 19,
      "outputs": [
        {
          "output_type": "stream",
          "name": "stdout",
          "text": [
            "['Neymar', 'Messi', 3.5, 50]\n",
            "Tuple =  ('Neymar', 'Messi', 3.5, 50)\n"
          ]
        }
      ]
    },
    {
      "cell_type": "code",
      "source": [
        "# Write a function to demonstrate the behavior of mutable and immutable arguments.\n",
        "\n",
        "a = 10\n",
        "b = 10\n",
        "print(id(a) , id(b))\n",
        "\n",
        "list1 = [1, 2, 3]\n",
        "list2 = [1, 2, 3]\n",
        "print(id(list1) , id(list2))"
      ],
      "metadata": {
        "colab": {
          "base_uri": "https://localhost:8080/"
        },
        "id": "E3-ercPAbUnv",
        "outputId": "c5f00851-52b6-4b69-ba4c-1851eab07c32"
      },
      "execution_count": 21,
      "outputs": [
        {
          "output_type": "stream",
          "name": "stdout",
          "text": [
            "10751144 10751144\n",
            "139999295127104 139999294795200\n"
          ]
        }
      ]
    },
    {
      "cell_type": "code",
      "source": [
        "# Write a program that performs basic arithmetic operations on two user-input numbers.\n",
        "\n",
        "a=input(\"Enter the number 1 :\")\n",
        "b=input(\"Enter the number 2 :\")\n",
        "sum=int(a)+int(b)\n",
        "print (\"addition is :\",sum)\n",
        "\n"
      ],
      "metadata": {
        "colab": {
          "base_uri": "https://localhost:8080/"
        },
        "id": "Chh-Ywu3cfP8",
        "outputId": "848ae07b-5115-4853-c9e2-4087bfebb8d2"
      },
      "execution_count": 22,
      "outputs": [
        {
          "output_type": "stream",
          "name": "stdout",
          "text": [
            "Enter the number 1 :5\n",
            "Enter the number 2 :4\n",
            "addition is : 9\n"
          ]
        }
      ]
    },
    {
      "cell_type": "code",
      "source": [
        "# Write a program to demonstrate the use of logical operators.\n",
        "\n",
        "a = int(input(\"first value=\"))\n",
        "b = int(input(\"second value=\"))\n",
        "\n",
        "print(a)\n",
        "print(b)\n",
        "\n",
        "print (a < b and a > b)\n",
        "print( a < b or a > b)\n",
        "print (not(a < b))"
      ],
      "metadata": {
        "colab": {
          "base_uri": "https://localhost:8080/"
        },
        "id": "I9eWQcZKduCw",
        "outputId": "50741c2f-c25b-4145-be07-482b07e3ba82"
      },
      "execution_count": 23,
      "outputs": [
        {
          "output_type": "stream",
          "name": "stdout",
          "text": [
            "first value=5\n",
            "second value=10\n",
            "5\n",
            "10\n",
            "False\n",
            "True\n",
            "False\n"
          ]
        }
      ]
    },
    {
      "cell_type": "code",
      "source": [
        "# Write a Python program to convert user input from string to integer, float, and boolean types.\n",
        "\n",
        "number_str = \"10\"\n",
        "number_int = int(number_str)\n",
        "print(number_int)\n",
        "\n",
        "decimal_str = \"10.5\"\n",
        "decimal_float = float(decimal_str)\n",
        "print(decimal_float)"
      ],
      "metadata": {
        "colab": {
          "base_uri": "https://localhost:8080/"
        },
        "id": "ezcW_nfogXKo",
        "outputId": "a86fa95a-eac6-4ed2-ec61-1eab2104f7ad"
      },
      "execution_count": 26,
      "outputs": [
        {
          "output_type": "stream",
          "name": "stdout",
          "text": [
            "10\n",
            "10.5\n"
          ]
        }
      ]
    },
    {
      "cell_type": "code",
      "source": [
        "# Write code to demonstrate type casting with list elements.\n",
        "\n",
        "my_list = ['1', '2', '3', '4', '5']\n",
        "\n",
        "int_list = [int(x) for x in my_list]\n",
        "print(\"List of integers:\", int_list)\n",
        "\n",
        "float_list = [float(x) for x in int_list]\n",
        "print(\"List of floats:\", float_list)\n",
        "\n",
        "str_list = [str(x) for x in float_list]\n",
        "print(\"List of strings:\", str_list)\n"
      ],
      "metadata": {
        "colab": {
          "base_uri": "https://localhost:8080/"
        },
        "id": "0RxQrrp7grnF",
        "outputId": "45c60809-2ef6-4760-d9b0-c4537d86439d"
      },
      "execution_count": 27,
      "outputs": [
        {
          "output_type": "stream",
          "name": "stdout",
          "text": [
            "List of integers: [1, 2, 3, 4, 5]\n",
            "List of floats: [1.0, 2.0, 3.0, 4.0, 5.0]\n",
            "List of strings: ['1.0', '2.0', '3.0', '4.0', '5.0']\n"
          ]
        }
      ]
    },
    {
      "cell_type": "code",
      "source": [
        "#  Write a program that checks if a number is positive, negative, or zero.\n",
        "\n",
        "num = float(input(\"Enter a number: \"))\n",
        "if num > 0:\n",
        "   print(\"Positive number\")\n",
        "elif num == 0:\n",
        "   print(\"Zero\")\n",
        "else:\n",
        "   print(\"Negative number\")\n",
        "\n",
        ""
      ],
      "metadata": {
        "colab": {
          "base_uri": "https://localhost:8080/"
        },
        "id": "bRJQvTfdhNWQ",
        "outputId": "fbd7f8ca-bfbe-4fbc-b911-8f28d40487ef"
      },
      "execution_count": 30,
      "outputs": [
        {
          "output_type": "stream",
          "name": "stdout",
          "text": [
            "Enter a number: 2\n",
            "Positive number\n"
          ]
        }
      ]
    },
    {
      "cell_type": "code",
      "source": [
        "# Write a for loop to print numbers from 1 to 10.\n",
        "\n",
        "for i in range(1, 11):\n",
        "    print(i)"
      ],
      "metadata": {
        "colab": {
          "base_uri": "https://localhost:8080/"
        },
        "id": "BlxFAeW4h7ln",
        "outputId": "589733b0-04d8-48be-cfeb-f4b49b3aadb7"
      },
      "execution_count": 31,
      "outputs": [
        {
          "output_type": "stream",
          "name": "stdout",
          "text": [
            "1\n",
            "2\n",
            "3\n",
            "4\n",
            "5\n",
            "6\n",
            "7\n",
            "8\n",
            "9\n",
            "10\n"
          ]
        }
      ]
    },
    {
      "cell_type": "code",
      "source": [
        "# Write a Python program to find the sum of all even numbers between 1 and 50.\n",
        "\n",
        "sum_even = 0\n",
        "for number in range(2, 51, 2):\n",
        "    sum_even += number\n",
        "print(sum_even)"
      ],
      "metadata": {
        "colab": {
          "base_uri": "https://localhost:8080/"
        },
        "id": "MolAh-9tiagy",
        "outputId": "f243c23a-bdfa-4614-a22c-a761f789249f"
      },
      "execution_count": 32,
      "outputs": [
        {
          "output_type": "stream",
          "name": "stdout",
          "text": [
            "650\n"
          ]
        }
      ]
    },
    {
      "cell_type": "code",
      "source": [
        "# Write a program to reverse a string using a while loop.\n",
        "\n",
        "def reverse_string(s):\n",
        "    reversed_s = \"\"\n",
        "    length = len(s) - 1\n",
        "    while length >= 0:\n",
        "        reversed_s += s[length]\n",
        "        length -= 1\n",
        "    return reversed_s\n",
        "\n",
        "input_string = \"Hello, World!\"\n",
        "reversed_string = reverse_string(input_string)\n",
        "print(f\"Original string: {input_string}\")\n",
        "print(f\"Reversed string: {reversed_string}\")"
      ],
      "metadata": {
        "colab": {
          "base_uri": "https://localhost:8080/"
        },
        "id": "uVyxeb5divcW",
        "outputId": "b59de676-5751-490c-fe82-3aa581f02b09"
      },
      "execution_count": 33,
      "outputs": [
        {
          "output_type": "stream",
          "name": "stdout",
          "text": [
            "Original string: Hello, World!\n",
            "Reversed string: !dlroW ,olleH\n"
          ]
        }
      ]
    },
    {
      "cell_type": "code",
      "source": [
        "#  Write a Python program to calculate the factorial of a number provided by the user using a while loop.\n",
        "\n",
        "num = int(input(\"Enter a numner :\"))\n",
        "fact = 1\n",
        "for i in range(1,num+1):\n",
        "    fact = fact*i\n",
        "print(\"Factorial of \",num,\"is \",fact)"
      ],
      "metadata": {
        "colab": {
          "base_uri": "https://localhost:8080/"
        },
        "id": "Hvi63a1Mj4cQ",
        "outputId": "63583cff-2939-4678-f5e3-2232a514a50f"
      },
      "execution_count": 36,
      "outputs": [
        {
          "output_type": "stream",
          "name": "stdout",
          "text": [
            "Enter a numner :8\n",
            "Factorial of  8 is  40320\n"
          ]
        }
      ]
    },
    {
      "cell_type": "code",
      "source": [],
      "metadata": {
        "id": "0Bt3Bkb9mJGg"
      },
      "execution_count": null,
      "outputs": []
    }
  ]
}